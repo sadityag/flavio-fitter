{
 "cells": [
  {
   "cell_type": "code",
   "execution_count": 3,
   "metadata": {},
   "outputs": [
    {
     "name": "stdout",
     "output_type": "stream",
     "text": [
      "['Sindrum II Ti 1993', 'Sindrum II Au 2006', 'HFAG rad 2014', 'HFLAV rad 2018', 'Belle B->munu 2020', 'Belle B->enu 2007', 'PDG B->taunu 2018', 'BaBar Btautau 2005', 'BaBar BKtautau 2016', 'B->Xgamma WA 2017', 'HFAG acp 2016', 'Belle phigamma 2014', 'LHCb rad 2012', 'LHCb phigamma 2019', 'HFAG osc summer 2015', 'HFAG UT summer 2015', 'HFLAV UT 2023', 'HFAG K*gamma summer 2015', 'PDG kaon CPV', 'LHCb B->K*mumu 2020 S 0.1-0.98', 'LHCb B->K*mumu 2020 S 1.1-2.5', 'LHCb B->K*mumu 2020 S 2.5-4', 'LHCb B->K*mumu 2020 S 4-6', 'LHCb B->K*mumu 2020 S 6-8', 'LHCb B->K*mumu 2020 S 11-12.5', 'LHCb B->K*mumu 2020 S 15-17', 'LHCb B->K*mumu 2020 S 17-19', 'LHCb B->K*mumu 2020 S 1.1-6', 'LHCb B->K*mumu 2020 S 15-19', 'LHCb B->K*mumu 2020 P 0.1-0.98', 'LHCb B->K*mumu 2020 P 1.1-2.5', 'LHCb B->K*mumu 2020 P 2.5-4', 'LHCb B->K*mumu 2020 P 4-6', 'LHCb B->K*mumu 2020 P 6-8', 'LHCb B->K*mumu 2020 P 11-12.5', 'LHCb B->K*mumu 2020 P 15-17', 'LHCb B->K*mumu 2020 P 17-19', 'LHCb B->K*mumu 2020 P 1.1-6', 'LHCb B->K*mumu 2020 P 15-19', 'LHCb B+->K*mumu 2020 S 0.1-0.98', 'LHCb B+->K*mumu 2020 S 1.1-2.5', 'LHCb B+->K*mumu 2020 S 2.5-4', 'LHCb B+->K*mumu 2020 S 4-6', 'LHCb B+->K*mumu 2020 S 6-8', 'LHCb B+->K*mumu 2020 S 11-12.5', 'LHCb B+->K*mumu 2020 S 15-17', 'LHCb B+->K*mumu 2020 S 17-19', 'LHCb B+->K*mumu 2020 S 1.1-6', 'LHCb B+->K*mumu 2020 S 15-19', 'LHCb B+->K*mumu 2020 P 0.1-0.98', 'LHCb B+->K*mumu 2020 P 1.1-2.5', 'LHCb B+->K*mumu 2020 P 2.5-4', 'LHCb B+->K*mumu 2020 P 4-6', 'LHCb B+->K*mumu 2020 P 6-8', 'LHCb B+->K*mumu 2020 P 11-12.5', 'LHCb B+->K*mumu 2020 P 15-17', 'LHCb B+->K*mumu 2020 P 17-19', 'LHCb B+->K*mumu 2020 P 1.1-6', 'LHCb B+->K*mumu 2020 P 15-19', 'LHCb B->K*mumu 2015 A 0.1-0.98', 'LHCb B->K*mumu 2015 A 1.1-2.5', 'LHCb B->K*mumu 2015 A 2.5-4', 'LHCb B->K*mumu 2015 A 4-6', 'LHCb B->K*mumu 2015 A 6-8', 'LHCb B->K*mumu 2015 A 15-17', 'LHCb B->K*mumu 2015 A 17-19', 'LHCb B->K*mumu 2015 A 1.1-6', 'LHCb B->K*mumu 2015 A 15-19', 'CMS B->K*mumu 2015 4.3-6', 'CMS B->K*mumu 2015 4.3-6 BR', 'CMS B->K*mumu 2013 combined with 2015 BR', 'CMS B->K*mumu 2013 combined with 2015', 'CMS B->K*mumu 2017 1-2', 'CMS B->K*mumu 2017 2-4.3', 'CMS B->K*mumu 2017 4.3-6', 'CMS B->K*mumu 2017 6-8.68', 'CMS B->K*mumu 2017 10.09-12.86', 'CMS B->K*mumu 2017 14.18-16', 'CMS B->K*mumu 2017 16-19', 'CMS B->K*mumu 2017 P1', 'CMS B->K*mumu 2017 P5p', 'ATLAS B->K*mumu 2017 FL', 'ATLAS B->K*mumu 2017 S3', 'ATLAS B->K*mumu 2017 S4', 'ATLAS B->K*mumu 2017 S5', 'ATLAS B->K*mumu 2017 S7', 'ATLAS B->K*mumu 2017 S8', 'ATLAS B->K*mumu 2017 P1', 'ATLAS B->K*mumu 2017 P4p', 'ATLAS B->K*mumu 2017 P5p', 'ATLAS B->K*mumu 2017 P6p', 'ATLAS B->K*mumu 2017 P8p', 'Belle B0->pilnu 2013', 'Belle B0->pilnu 2013 total BR', 'Belle B0->pitaunu 2015 total BR', 'Belle B0->rholnu 2013 total BR', 'Belle B+->rholnu 2013 total BR', 'Belle B+->pilnu 2013', 'HFLAV B0->pilnu 2021', 'Belle B0->rholnu 2013', 'Belle B+->rholnu 2013', 'BaBar B0->rholnu 2010', 'BaBar B+->rholnu 2010', 'Belle B->omegalnu 2013', 'BaBar B->omegalnu 2012', 'BPR combination B->omegalnu 2021', 'BPR combination B->rholnu 2021', 'LHCb B+->Kmumu BR 2014', 'LHCb B0->Kmumu BR 2014', 'LHCb B+->K*mumu BR 2014', 'LHCb B0->K*mumu BR 2016', 'LHCb Bs->phimumu BR 2015', 'LHCb Bs->phimumu BR 2021', 'LHCb Bs->phimumu 2015 0.1-2.0 GeV^2', 'LHCb Bs->phimumu 2015 2.0-5.0 GeV^2', 'LHCb Bs->phimumu 2015 5.0-8.0 GeV^2', 'LHCb Bs->phimumu 2015 11.0-12.5 GeV^2', 'LHCb Bs->phimumu 2015 15.0-17.0 GeV^2', 'LHCb Bs->phimumu 2015 17.0-19.0 GeV^2', 'LHCb Bs->phimumu 2015 1.0-6.0 GeV^2', 'LHCb Bs->phimumu 2015 15.0-19.0 GeV^2', 'LHCb Bs->phimumu 2021 0.1-0.98 GeV^2', 'LHCb Bs->phimumu 2021 1.1-4.0 GeV^2', 'LHCb Bs->phimumu 2021 4.0-6.0 GeV^2', 'LHCb Bs->phimumu 2021 6.0-8.0 GeV^2', 'LHCb Bs->phimumu 2021 11.0-12.5 GeV^2', 'LHCb Bs->phimumu 2021 1.1-6.0 GeV^2', 'LHCb Bs->phimumu 2021 15.0-18.9 GeV^2', 'LHCb B->K*ee 2020', 'LHCb B->K*ee 2013', 'PDG 2015', 'PDG 2022', 'KLOE-2 KS->pimunu 2019', 'KLOE-2 KS->pienu 2022', 'PiENu pi->enu 2015', 'CKM ratio measurements', 'LHCb Lambdab->Lambdamumu 2015 BR', 'LHCb Lambdab->Lambdamumu 2018', 'LHCb B+->Kmumu FH 2014', 'LHCb B+->Kmumu AFB 2014', 'Belle B->Xcenu 2006', 'BaBar B->Xcenu 2009', 'BaBar RD 2012', 'Belle RD had 2015', 'Belle RD* sl 2019', 'Belle RD* had 2016', 'LHCb RD* 2015', 'LHCb RD* 2017', 'LHCb RD* 2023', 'LHCb RD RD* 2022', 'CMS Bs->mumu 2013', 'LHCb Bs->mumu 2017', 'Belle B->hnunu SL 2017', 'Belle B->hnunu had 2013', 'BaBar B->Knunu had 2013', 'BaBar B->Knunu SL 2010', 'LHCb B->tautau 2017', 'BaBar B->Xll 2013', 'Belle B->Xll 2005', 'Belle B->Xll 2014', 'CDF B+>Kmumu 2012', 'CDF B0->K*mumu BR 2012', 'CDF Bs->phimumu 2012', 'CDF B0->Kmumu 2012', 'CDF B+->K*mumu 2012', 'CDF B0->K*mumu FL 2012', 'CDF B0->K*mumu AFB 2012', 'LHCb RK* 2017', 'BaBar B->Dlnu 2009', 'Belle B->Dlnu 2015', 'Belle Rmue(B->D*lnu) 2017', 'Belle B->D*lnu hadronic tag 2017', 'BaBar B->D(*)lnu 2008', 'BaBar B->D*lnu 2007 hadronic tag', 'BaBar B0->D*lnu 2007', 'BaBar B+->D*enu 2007', 'Belle B->D*lnu 2010', 'HFLAV D mixing 2019', 'PDG 2017 tau', 'PDG 2017 tau LFV', 'Belle 2010 tau->lll', 'PDG 2017 mu LFV', 'PDG epsp/eps', 'BaBar B+->htaul 2012', 'BaBar B->Kll LFV 2016', 'Belle B->K*emu 2018', \"BaBar B->ll' 2008\", \"LHCb B->ll' 2017\", 'LHCb B->Kmutau 2020', 'LHCb B->taumu 2019', 'LHCb B->Kll LFV 2019', 'BaBar B->pill LFV 2007', 'CHARM-II neutrino trident', 'CCFR neutrino trident', 'Belle B->Dtaunu shape 2015', 'Belle B->D*taunu shape 2015', 'BaBar B->Dtaunu shape 2013', 'BaBar B->D*taunu shape 2013', 'LEP Bc->taunu', 'LEP-SLD', 'LEP-SLD cb', 'A_s SLD', 'PDG Rc', 'A_l LEP', 'A_l SLD', 'LEP Z leptonic decay', 'ATLAS W->taunu 2020', 'LHCb W->lnu 2016', 'D0 W->taunu 1999', 'm_W Tevatron', 'm_W ATLAS 2017', 'DELPHI Z LFV', 'ATLAS Z->taul 2020', 'ATLAS Z LFV 2014', 'OPAL Z LFV', 'LEP W->leptons', 'LEP W->leptons ratios', 'PDG W width', 'Belle 2018 B->D*taunu FL', 'Belle B->D*lnu 2018 untagged', 'PDG g-2 e tau', 'PDG g-2 mu', 'FNAL g-2', 'FNAL g-2 combination', 'K+->pinunu E949 2009', 'K+->pinunu NA62 2019', 'K+->pinunu NA62 2021', 'KL->pinunu KOTO 2018', 'PDG 2018 Kll', 'LHCb KS->mumu 2019', 'ATLAS Bs->mumu 2018', 'ATLAS CMS LHCb combination Bs->mumu 2020', 'LHCb Bs->mumu 2021', 'CMS Bs->mumu 2022', 'GSSS combination Bs->mumu 2022', 'AS combination Bs->mumu 2021', 'ATLAS CMS LHCb combination Bs->mumu 2020 Gaussian', 'inofficial combination Bs->mumu 2019', 'inofficial combination Bs->mumu 2019 CMS19', 'LHCb Bs->mumu effective lifetime 2017', 'CMS Bs->mumu effective lifetime 2019', 'LHCb Bs->mumu effective lifetime 2021', 'CMS Bs->mumu effective lifetime 2022', 'Bc lifetime', 'Belle RK* 2019', 'Belle RK 2019', 'LHCb RK 2019', 'LHCb RK 2021', 'LHCb RKS 2021', 'LHCb RKstplus 2021', 'LHCb RK RK* 2022', 'Belle B->K*mumu LFU 2016', 'CMS Bs->mumu 2019', 'LHCb B->ee 2020', 'Ft(0+) Hardy/Towner 2014', 'Ft(0+) Hardy/Towner 2020', 'Neutron averages GACS 2018 1', 'Neutron A parameter PERKEO II 2012', 'Neutron A parameter PERKEO III 2018', 'Neutron A parameter UCNA 2017', 'Neutron averages GACS 2018 2', 'aCORN atilde_n 2017', 'nTRV R_n 2011', 'Mostovoi lambda_n 2001', 'Moulson Kl3 averages 2014', 'ISTRA+ Kl3 2003', 'PDG Lambda->plnu', 'PDG 2018 D->lnu', 'PDG 2018 D->Plnu', 'PDG 2022 D->lnu', 'PDG 2022 D->Plnu', 'BESIII D0->Kenu 2015', 'BESIII D0->pienu 2015', 'BESIII D+->Kenu 2017', 'BESIII D+->pienu 2017', 'CLEO D->Kenu 2009', 'CLEO D->pienu 2009', 'LHC Run 1 Higgs combination', 'LHC Run 1 h->mumu', 'ATLAS Run 1 h->Zgamma', 'CMS Run 1 h->Zgamma', 'ATLAS Run 2 h->mumu 36/fb', 'ATLAS Run 2 h->Zgamma 36/fb', 'CMS Run 2 h->Zgamma 36/fb', 'ATLAS Run 2 Higgs 80/fb', 'CMS Run 2 Higgs 36/fb', 'CMS h->cc 2019', 'LEP ee->WW', 'LEP ee->WW angular', 'ATLAS pp->ee 2016', 'ATLAS pp->ee 2019', 'ATLAS pp->enu 2019', 'ATLAS pp->mumu 2016', 'ATLAS pp->mumu 2019', 'ATLAS pp->munu 2019', 'CMS pp->ee 2021', 'CMS pp->enu 2022', 'CMS pp->mumu 2021', 'CMS pp->munu 2022', 'Belle B+->pi+ee 2008', 'LHCb B->pimumu 2015', 'LHCb Bs->K*mumu 2018']\n"
     ]
    }
   ],
   "source": [
    "import flavio\n",
    "\n",
    "# `instances` is a dictionary keyed by measurement names\n",
    "measurements = flavio.Measurement.instances\n",
    "\n",
    "# Print the keys of this dictionary to see all available measurement names\n",
    "print(list(measurements.keys()))\n"
   ]
  },
  {
   "cell_type": "code",
   "execution_count": 4,
   "metadata": {},
   "outputs": [
    {
     "ename": "KeyError",
     "evalue": "'CMS+LHCb-2017-Bsmumu'",
     "output_type": "error",
     "traceback": [
      "\u001b[1;31m---------------------------------------------------------------------------\u001b[0m",
      "\u001b[1;31mKeyError\u001b[0m                                  Traceback (most recent call last)",
      "Cell \u001b[1;32mIn[4], line 1\u001b[0m\n\u001b[1;32m----> 1\u001b[0m m \u001b[38;5;241m=\u001b[39m \u001b[43mflavio\u001b[49m\u001b[38;5;241;43m.\u001b[39;49m\u001b[43mMeasurement\u001b[49m\u001b[38;5;241;43m.\u001b[39;49m\u001b[43minstances\u001b[49m\u001b[43m[\u001b[49m\u001b[38;5;124;43m'\u001b[39;49m\u001b[38;5;124;43mCMS+LHCb-2017-Bsmumu\u001b[39;49m\u001b[38;5;124;43m'\u001b[39;49m\u001b[43m]\u001b[49m\n\u001b[0;32m      2\u001b[0m \u001b[38;5;28mprint\u001b[39m(m)\n",
      "\u001b[1;31mKeyError\u001b[0m: 'CMS+LHCb-2017-Bsmumu'"
     ]
    }
   ],
   "source": [
    "m = flavio.Measurement.instances['CMS+LHCb-2017-Bsmumu']\n",
    "print(m)\n"
   ]
  },
  {
   "cell_type": "code",
   "execution_count": null,
   "metadata": {},
   "outputs": [],
   "source": []
  }
 ],
 "metadata": {
  "kernelspec": {
   "display_name": "flaviofitterenv",
   "language": "python",
   "name": "python3"
  },
  "language_info": {
   "codemirror_mode": {
    "name": "ipython",
    "version": 3
   },
   "file_extension": ".py",
   "mimetype": "text/x-python",
   "name": "python",
   "nbconvert_exporter": "python",
   "pygments_lexer": "ipython3",
   "version": "3.10.13"
  }
 },
 "nbformat": 4,
 "nbformat_minor": 2
}
